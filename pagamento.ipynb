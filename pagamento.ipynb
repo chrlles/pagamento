{
 "cells": [
  {
   "cell_type": "code",
   "execution_count": 3,
   "id": "968c3ab3",
   "metadata": {},
   "outputs": [
    {
     "name": "stdout",
     "output_type": "stream",
     "text": [
      "Qual é a forma de pagamento: Cartão\n",
      "Digite a senha: ******\n",
      "******\n"
     ]
    }
   ],
   "source": [
    "pagamento = input('Qual é a forma de pagamento: ')\n",
    "if pagamento == 'Cartão':\n",
    "    print(input('Digite a senha: '))\n",
    "elif pagamento == 'dinheiro':\n",
    "    print(input('Digite o valor: '))"
   ]
  },
  {
   "cell_type": "code",
   "execution_count": 12,
   "id": "79181139",
   "metadata": {},
   "outputs": [
    {
     "name": "stdout",
     "output_type": "stream",
     "text": [
      "débito ou crédito ?: debito\n",
      "Cartão débito. Por favor, digite a senha: *****\n",
      "*****\n"
     ]
    }
   ],
   "source": [
    "cartao = input('débito ou crédito? : ')\n",
    "if cartao == 'debito':\n",
    "    print(input('Cartão débito. Por favor, digite a senha: '))\n",
    "elif cartao == 'credito':\n",
    "    print(input('Cartão crédito. Por favor, digite a senha: '))"
   ]
  },
  {
   "cell_type": "code",
   "execution_count": 19,
   "id": "497170f4",
   "metadata": {},
   "outputs": [
    {
     "name": "stdout",
     "output_type": "stream",
     "text": [
      "Foi feito pagamento de R$ 50 \n"
     ]
    }
   ],
   "source": [
    "dinheiro = print('Foi feito pagamento de R$ 50 ')"
   ]
  },
  {
   "cell_type": "code",
   "execution_count": 20,
   "id": "b188abab",
   "metadata": {},
   "outputs": [
    {
     "name": "stdout",
     "output_type": "stream",
     "text": [
      "o troco é de R$ 21,00\n"
     ]
    }
   ],
   "source": [
    "troco = print('o troco é de R$ 21,00')"
   ]
  },
  {
   "cell_type": "code",
   "execution_count": 2,
   "id": "3cc68334",
   "metadata": {},
   "outputs": [],
   "source": [
    "from datetime import datetime\n",
    "from datetime import date"
   ]
  },
  {
   "cell_type": "code",
   "execution_count": 29,
   "id": "9cf8016d",
   "metadata": {},
   "outputs": [
    {
     "data": {
      "text/plain": [
       "datetime.datetime(2022, 2, 12, 18, 54, 44, 462233)"
      ]
     },
     "execution_count": 29,
     "metadata": {},
     "output_type": "execute_result"
    }
   ],
   "source": [
    "datetime.now()"
   ]
  },
  {
   "cell_type": "code",
   "execution_count": 30,
   "id": "21f58771",
   "metadata": {},
   "outputs": [
    {
     "name": "stdout",
     "output_type": "stream",
     "text": [
      "2022-02-12 18:54:45.830291\n"
     ]
    }
   ],
   "source": [
    "recibo = print(datetime.now())"
   ]
  },
  {
   "cell_type": "code",
   "execution_count": 31,
   "id": "dd3edea0",
   "metadata": {},
   "outputs": [],
   "source": [
    "data = date.today()"
   ]
  },
  {
   "cell_type": "code",
   "execution_count": 33,
   "id": "f8d6a8ac",
   "metadata": {},
   "outputs": [
    {
     "name": "stdout",
     "output_type": "stream",
     "text": [
      "A data da compra: 2022-02-12\n"
     ]
    }
   ],
   "source": [
    "print(f'A data da compra: {data}')"
   ]
  },
  {
   "cell_type": "code",
   "execution_count": 38,
   "id": "99aecbcc",
   "metadata": {},
   "outputs": [
    {
     "name": "stdout",
     "output_type": "stream",
     "text": [
      "A data da compra:  2022/02/12\n"
     ]
    }
   ],
   "source": [
    "print(f'A data da compra: {data: %Y/%m/%d}')"
   ]
  },
  {
   "cell_type": "code",
   "execution_count": 39,
   "id": "efc359e0",
   "metadata": {},
   "outputs": [
    {
     "name": "stdout",
     "output_type": "stream",
     "text": [
      "Horario da compra: 2022-02-12 19:09:31.349299\n"
     ]
    }
   ],
   "source": [
    "print(f'Horario da compra: {datetime.now()}')"
   ]
  },
  {
   "cell_type": "code",
   "execution_count": 5,
   "id": "84c85e23",
   "metadata": {},
   "outputs": [
    {
     "name": "stdout",
     "output_type": "stream",
     "text": [
      "digite o produto: camisa\n",
      " O camisa foi comprado no horario 2022-02-13 16:32:38.700209\n"
     ]
    }
   ],
   "source": [
    "produto = input('digite o produto: ')\n",
    "print(f' O {produto} foi comprado no horario {datetime.now()}')"
   ]
  },
  {
   "cell_type": "code",
   "execution_count": null,
   "id": "71479566",
   "metadata": {},
   "outputs": [],
   "source": []
  }
 ],
 "metadata": {
  "kernelspec": {
   "display_name": "Python 3",
   "language": "python",
   "name": "python3"
  },
  "language_info": {
   "codemirror_mode": {
    "name": "ipython",
    "version": 3
   },
   "file_extension": ".py",
   "mimetype": "text/x-python",
   "name": "python",
   "nbconvert_exporter": "python",
   "pygments_lexer": "ipython3",
   "version": "3.8.8"
  }
 },
 "nbformat": 4,
 "nbformat_minor": 5
}
